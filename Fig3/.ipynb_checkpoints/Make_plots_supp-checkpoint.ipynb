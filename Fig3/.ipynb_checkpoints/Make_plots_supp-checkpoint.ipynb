{
 "cells": [
  {
   "cell_type": "code",
   "execution_count": 284,
   "id": "028b9887",
   "metadata": {},
   "outputs": [],
   "source": [
    "import numpy as np\n",
    "import pandas as pd\n",
    "import matplotlib.pyplot as plt\n",
    "import seaborn as sns\n",
    "\n",
    "import glob\n",
    "from scipy.stats import wilcoxon\n",
    "from scipy.spatial.distance import jensenshannon\n",
    "from scipy.spatial.distance import squareform\n",
    "from scipy.spatial.distance import pdist\n",
    "from sklearn.manifold import TSNE\n",
    "\n",
    "global_palette = {'Raw':'#4c72b0', 'Restrictive':'#dd8452',\n",
    "                  'Decontam':'#55a868', 'SCRUB':'#c44e52', 'SCRuB':'#c44e52', \n",
    "                  'Decontam (Low Biomass)':'darkgreen',\n",
    "                  'Decontam (LB)':'darkgreen',\n",
    "                  'Decontam_LB':'darkgreen',\n",
    "                  'Restrictive (Original)':'#dd8452',\n",
    "                  'Input':'#4c72b0',\n",
    "                  'No decontamination':'#4c72b0', \n",
    "                  'microDecon':'purple'}\n",
    "sns.set_theme(font_scale=2)\n",
    "\n",
    "sns.set(rc={'axes.facecolor':'white', 'figure.facecolor':'white', \n",
    "            'axes.edgecolor':'black', \n",
    "           'grid.color': 'black'}, \n",
    "       font_scale=2)"
   ]
  },
  {
   "cell_type": "code",
   "execution_count": 178,
   "id": "fbfed9fb",
   "metadata": {},
   "outputs": [],
   "source": [
    "sample_locs = pd.wide_to_long(\n",
    "        pd.DataFrame(np.array( [a.split('\\t') for a in \n",
    "        \"\"\"A\tSK1\tSK3\tVG3\tSV6\tSK7\tLib_neg_2_9\tZST1\tZST3\tZST4\tZSV1\tZSV2\tZSV3\n",
    "        B\tST1\tneg2_1\tST4\tneg2_4\tST6\tV3SV1\tZST2\tzneg2_1\tZST5\tZSV4\tzneg2_5\tZSV5\n",
    "        C\tLib_neg2_1\tSV3\tneg2_3\tSK5\tLib_neg2_4\tV3SV2\tZST6\tzneg2_2\tZST7\tZSV6\tzneg2_6\tZSV7\n",
    "        D\tSV1\tLib_neg_2_2\tSV5\tneg2_5\tVG6\tV3SV3\tZSK1\tZSK2\tZSK3\tZVG1\tZVG2\tZVG3\n",
    "        E\tSV2\tST3\tVG4\tST5\tST7\tV3SV4\tZSK4\tneg2_3_2\tZSK5\tZVG4\tzneg2_7\tZVG5\n",
    "        F\tVG1\tneg2_2\tSK4\tneg2_6\tSV7\tV3SV5\tZSK6\tzneg2_4\tZSK7\tZVG6\tzneg2_8\tZVG7\n",
    "        G\tSK2\tVG2\tLib_neg2_3\tSK6\tneg2_8\tV3SV6\tLib_neg2_5\tLib_neg2_6\tB_1\tLib_neg2_7\tLib_neg2_8\tB_2\n",
    "        H\tST2\tSV4\tVG5\tneg2_7\tVG7\tV3SV7\tclin_neg11\tneg2_9\tneg2_10\tclin_neg12\tzneg2_9\tzneg2_10\"\"\".split('\\n')\n",
    "        ] ), columns=['X{}'.format(a) if a >0 else 'row' for a in range(13)] ), \n",
    "    stubnames='X',\n",
    "    i = 'row',\n",
    "    j = 'loc').reset_index()\n",
    "\n",
    "sample_locs['plate_loc'] = sample_locs['row'] + sample_locs['loc'].astype(str)\n",
    "sample_locs.row=sample_locs.row.str.strip()"
   ]
  },
  {
   "cell_type": "code",
   "execution_count": 179,
   "id": "acfb0bba",
   "metadata": {},
   "outputs": [],
   "source": [
    "library_dist_df=pd.DataFrame( {row[1].X:(ord(row[1].row)-64, row[1]['loc'])\n",
    "      for row in sample_locs.iterrows() } ).T\n",
    "\n",
    "pairwise = pd.DataFrame(\n",
    "    squareform(pdist(library_dist_df)),\n",
    "    columns = library_dist_df.index,\n",
    "    index = library_dist_df.index\n",
    ")"
   ]
  },
  {
   "cell_type": "code",
   "execution_count": 180,
   "id": "2af9b157",
   "metadata": {},
   "outputs": [],
   "source": [
    "lib_negs=['Lib_neg2_1_S39',\n",
    "          'Lib_neg_2_2_S37', \n",
    "          'Lib_neg2_3_S40', \n",
    "          'Lib_neg2_4_S41'\n",
    "         ]"
   ]
  },
  {
   "cell_type": "code",
   "execution_count": 183,
   "id": "5ab1538f",
   "metadata": {},
   "outputs": [],
   "source": [
    "tps=['VG', 'ST', 'SK', 'SV']\n",
    "lib_nearby_cont_smp_jsds=[]\n",
    "lib_tp_list=[]\n",
    "for lib_smp_nm in lib_negs:\n",
    "    for a in raw_data.loc[raw_data.index==lib_smp_nm].iterrows():\n",
    "        nearby_smps = pairwise.loc[ ( pairwise.loc[lib_smp_nm[:-4]]<1.5 ) ].index\n",
    "        for ns in nearby_smps:\n",
    "            if 'neg' not in ns:\n",
    "                dist= jensenshannon(raw_data.loc[\n",
    "                    raw_data.index.str.startswith(ns)].values.astype(float)[0],\n",
    "                                    a[1].values.astype(float) )\n",
    "\n",
    "                lib_nearby_cont_smp_jsds.append(dist)\n",
    "                lib_tp_list.append(a[0][:2])"
   ]
  },
  {
   "cell_type": "code",
   "execution_count": 184,
   "id": "a9ce05ba",
   "metadata": {},
   "outputs": [
    {
     "name": "stderr",
     "output_type": "stream",
     "text": [
      "/Users/george/opt/anaconda3/envs/qiime2-dev/lib/python3.8/site-packages/scipy/spatial/distance.py:1295: RuntimeWarning: invalid value encountered in divide\n",
      "  q = q / np.sum(q, axis=axis, keepdims=True)\n",
      "/Users/george/opt/anaconda3/envs/qiime2-dev/lib/python3.8/site-packages/scipy/spatial/distance.py:1294: RuntimeWarning: invalid value encountered in divide\n",
      "  p = p / np.sum(p, axis=axis, keepdims=True)\n"
     ]
    }
   ],
   "source": [
    "lib_far_cont_smp_jsds=[]\n",
    "lib_tp_list=[]\n",
    "\n",
    "for a in raw_data.loc[raw_data.index.str.contains('Lib_neg2_7_S44|Lib_neg2_8_S45')].iterrows():\n",
    "    for ns in sample_locs.loc[sample_locs['loc']<=6].X.values:\n",
    "        if 'neg' not in ns:\n",
    "            dist= jensenshannon(raw_data.loc[\n",
    "                raw_data.index.str.startswith(ns)].values.astype(float)[0],\n",
    "                                a[1].values.astype(float) )\n",
    "\n",
    "            lib_far_cont_smp_jsds.append(dist)\n",
    "            lib_tp_list.append(a[0][:2])"
   ]
  },
  {
   "cell_type": "code",
   "execution_count": 265,
   "id": "d8d67cda",
   "metadata": {},
   "outputs": [
    {
     "name": "stderr",
     "output_type": "stream",
     "text": [
      "/var/folders/60/0byq_5yx2jbgs0cn6s5s2y7r0000gn/T/ipykernel_75445/1421691168.py:19: SettingWithCopyWarning: \n",
      "A value is trying to be set on a copy of a slice from a DataFrame.\n",
      "Try using .loc[row_indexer,col_indexer] = value instead\n",
      "\n",
      "See the caveats in the documentation: https://pandas.pydata.org/pandas-docs/stable/user_guide/indexing.html#returning-a-view-versus-a-copy\n",
      "  extraction_locs['plate_loc'] = extraction_locs['row'] + extraction_locs['loc'].astype(str)\n",
      "/var/folders/60/0byq_5yx2jbgs0cn6s5s2y7r0000gn/T/ipykernel_75445/1421691168.py:20: SettingWithCopyWarning: \n",
      "A value is trying to be set on a copy of a slice from a DataFrame.\n",
      "Try using .loc[row_indexer,col_indexer] = value instead\n",
      "\n",
      "See the caveats in the documentation: https://pandas.pydata.org/pandas-docs/stable/user_guide/indexing.html#returning-a-view-versus-a-copy\n",
      "  extraction_locs['row'] =extraction_locs['row'].str.strip()\n"
     ]
    }
   ],
   "source": [
    "sample_locs = pd.wide_to_long(\n",
    "        pd.DataFrame(np.array( [a.split('\\t') for a in \n",
    "        \"\"\"A\tSK1\tSK3\tVG3\tSV6\tSK7\tLib_neg_2_9\tZST1\tZST3\tZST4\tZSV1\tZSV2\tZSV3\n",
    "        B\tST1\tneg2_1\tST4\tneg2_4\tST6\tV3SV1\tZST2\tzneg2_1\tZST5\tZSV4\tzneg2_5\tZSV5\n",
    "        C\tLib_neg2_1\tSV3\tneg2_3\tSK5\tLib_neg2_4\tV3SV2\tZST6\tzneg2_2\tZST7\tZSV6\tzneg2_6\tZSV7\n",
    "        D\tSV1\tLib_neg_2_2\tSV5\tneg2_5\tVG6\tV3SV3\tZSK1\tZSK2\tZSK3\tZVG1\tZVG2\tZVG3\n",
    "        E\tSV2\tST3\tVG4\tST5\tST7\tV3SV4\tZSK4\tneg2_3_2\tZSK5\tZVG4\tzneg2_7\tZVG5\n",
    "        F\tVG1\tneg2_2\tSK4\tneg2_6\tSV7\tV3SV5\tZSK6\tzneg2_4\tZSK7\tZVG6\tzneg2_8\tZVG7\n",
    "        G\tSK2\tVG2\tLib_neg2_3\tSK6\tneg2_8\tV3SV6\tLib_neg2_5\tLib_neg2_6\tB_1\tLib_neg2_7\tLib_neg2_8\tB_2\n",
    "        H\tST2\tSV4\tVG5\tneg2_7\tVG7\tV3SV7\tclin_neg11\tneg2_9\tneg2_10\tclin_neg12\tzneg2_9\tzneg2_10\"\"\".split('\\n')\n",
    "        ] ), columns=['X{}'.format(a) if a >0 else 'row' for a in range(13)] ), \n",
    "    stubnames='X',\n",
    "    i = 'row',\n",
    "    j = 'loc').reset_index()\n",
    "\n",
    "extraction_locs = sample_locs.loc[ (sample_locs['loc']<7)&\\\n",
    "                 (sample_locs.X.str.contains('Lib')==False)]\n",
    "\n",
    "extraction_locs['plate_loc'] = extraction_locs['row'] + extraction_locs['loc'].astype(str)\n",
    "extraction_locs['row'] =extraction_locs['row'].str.strip()\n"
   ]
  },
  {
   "cell_type": "code",
   "execution_count": 266,
   "id": "17ca965b",
   "metadata": {},
   "outputs": [],
   "source": [
    "extraction_locs=extraction_locs.loc[extraction_locs.X.isin(['1', 'XXXX'])==False]"
   ]
  },
  {
   "cell_type": "code",
   "execution_count": 267,
   "id": "d3d323ba",
   "metadata": {},
   "outputs": [],
   "source": [
    "extraction_dist_df=pd.DataFrame( {row[1].X:(ord(row[1].row)-64, row[1]['loc'])\n",
    "      for row in extraction_locs.iterrows() } ).T\n",
    "\n",
    "extraction_pairwise = pd.DataFrame(\n",
    "    squareform(pdist(extraction_dist_df)),\n",
    "    columns = extraction_dist_df.index,\n",
    "    index = extraction_dist_df.index\n",
    ")"
   ]
  },
  {
   "cell_type": "code",
   "execution_count": 268,
   "id": "fa6278ed",
   "metadata": {},
   "outputs": [
    {
     "name": "stderr",
     "output_type": "stream",
     "text": [
      "/Users/george/opt/anaconda3/envs/qiime2-dev/lib/python3.8/site-packages/scipy/spatial/distance.py:1294: RuntimeWarning: invalid value encountered in divide\n",
      "  p = p / np.sum(p, axis=axis, keepdims=True)\n"
     ]
    }
   ],
   "source": [
    "extract_nearby_cont_smp_jsds=[]\n",
    "nearby_ext_comps =[]\n",
    "for extract_smp_nm in extraction_pairwise.loc[extraction_pairwise.index.str.contains('neg')].index:\n",
    "    for a in raw_data.loc[raw_data.index.str.startswith(extract_smp_nm)].iterrows():\n",
    "        nearby_smps = extraction_pairwise.loc[ \n",
    "                        ( extraction_pairwise.loc[extract_smp_nm]<1.5 ) ].index\n",
    "        for ns in nearby_smps:\n",
    "            if 'neg' not in ns:\n",
    "                dist= jensenshannon(raw_data.loc[\n",
    "                    raw_data.index.str.startswith(ns)].values.astype(float)[0],\n",
    "                                    a[1].values.astype(float) )\n",
    "\n",
    "                extract_nearby_cont_smp_jsds.append(dist)\n",
    "                nearby_ext_comps.append(ns)"
   ]
  },
  {
   "cell_type": "code",
   "execution_count": 271,
   "id": "56fd9aea",
   "metadata": {},
   "outputs": [],
   "source": [
    "extract_far_cont_smp_jsds=[]\n",
    "lib_tp_list=[]\n",
    "for a in raw_data.loc[raw_data.index.str.contains('neg2_10_S47|neg2_9_S56')].iterrows():\n",
    "    for ns in np.unique(nearby_ext_comps):#sample_locs.loc[sample_locs['loc']<=6].X.values:\n",
    "        if 'neg' not in ns:\n",
    "            dist= jensenshannon(raw_data.loc[\n",
    "                raw_data.index.str.startswith(ns)].values.astype(float)[0],\n",
    "                                a[1].values.astype(float) )\n",
    "\n",
    "            extract_far_cont_smp_jsds.append(dist)\n"
   ]
  },
  {
   "cell_type": "code",
   "execution_count": 278,
   "id": "b7055267",
   "metadata": {},
   "outputs": [],
   "source": [
    "groupings= ['Library, Far']*len( lib_far_cont_smp_jsds ) + \\\n",
    "    ['Library, near']*len( lib_nearby_cont_smp_jsds) +\\\n",
    "    ['Extraction, far']*len( extract_far_cont_smp_jsds) +\\\n",
    "    ['Extraction, near']*len( extract_nearby_cont_smp_jsds)"
   ]
  },
  {
   "cell_type": "code",
   "execution_count": 279,
   "id": "c0af5183",
   "metadata": {},
   "outputs": [
    {
     "data": {
      "text/plain": [
       "array(['Extraction, far', 'Extraction, near', 'Library, Far',\n",
       "       'Library, near'], dtype='<U16')"
      ]
     },
     "execution_count": 279,
     "metadata": {},
     "output_type": "execute_result"
    }
   ],
   "source": [
    "np.unique(groupings)"
   ]
  },
  {
   "cell_type": "code",
   "execution_count": 280,
   "id": "04f07f96",
   "metadata": {},
   "outputs": [],
   "source": [
    "from scipy.stats import mannwhitneyu"
   ]
  },
  {
   "cell_type": "code",
   "execution_count": 340,
   "id": "0f93a341",
   "metadata": {},
   "outputs": [
    {
     "name": "stderr",
     "output_type": "stream",
     "text": [
      "/Users/george/opt/anaconda3/envs/qiime2-dev/lib/python3.8/site-packages/seaborn/categorical.py:1296: UserWarning: 7.4% of the points cannot be placed; you may want to decrease the size of the markers or use stripplot.\n",
      "  warnings.warn(msg, UserWarning)\n",
      "/Users/george/opt/anaconda3/envs/qiime2-dev/lib/python3.8/site-packages/seaborn/categorical.py:1296: UserWarning: 41.1% of the points cannot be placed; you may want to decrease the size of the markers or use stripplot.\n",
      "  warnings.warn(msg, UserWarning)\n",
      "/Users/george/opt/anaconda3/envs/qiime2-dev/lib/python3.8/site-packages/seaborn/categorical.py:1296: UserWarning: 10.0% of the points cannot be placed; you may want to decrease the size of the markers or use stripplot.\n",
      "  warnings.warn(msg, UserWarning)\n",
      "/Users/george/opt/anaconda3/envs/qiime2-dev/lib/python3.8/site-packages/seaborn/categorical.py:1296: UserWarning: 35.7% of the points cannot be placed; you may want to decrease the size of the markers or use stripplot.\n",
      "  warnings.warn(msg, UserWarning)\n"
     ]
    },
    {
     "data": {
      "image/png": "[encoded data removed]",
      "text/plain": [
       "<Figure size 400x700 with 1 Axes>"
      ]
     },
     "metadata": {},
     "output_type": "display_data"
    }
   ],
   "source": [
    "plt.figure(figsize=(4,7))\n",
    "ax=sns.boxplot(x=groupings, \n",
    "           y = lib_far_cont_smp_jsds+lib_nearby_cont_smp_jsds+\\\n",
    "                 extract_far_cont_smp_jsds + extract_nearby_cont_smp_jsds, \n",
    "           color=global_palette['No decontamination'], \n",
    "               order=['Extraction, near', \n",
    "                      'Extraction, far',\n",
    "                      'Library, near',\n",
    "                      'Library, Far'\n",
    "                     ],\n",
    "               fliersize=0\n",
    "          )\n",
    "sns.swarmplot(x=groupings, \n",
    "           y = lib_far_cont_smp_jsds+lib_nearby_cont_smp_jsds+\\\n",
    "               extract_far_cont_smp_jsds + extract_nearby_cont_smp_jsds, \n",
    "           color='k', \n",
    "              order=['Extraction, near', \n",
    "                      'Extraction, far',\n",
    "                      'Library, near',\n",
    "                      'Library, Far'\n",
    "                     ],\n",
    "            size=5\n",
    "          )\n",
    "\n",
    "\n",
    "\n",
    "tmp = pd.DataFrame({ nm: mannwhitneyu( np.array(x)[np.isnan(np.array(x))==False],\n",
    "np.array(extract_nearby_cont_smp_jsds)[np.isnan(np.array(extract_nearby_cont_smp_jsds))==False],\n",
    "                                        ).pvalue\n",
    "               for nm, x in zip( ['Extraction, far',\n",
    "                                  'Library, near',\n",
    "                                  'Library, Far'],\n",
    "                               [extract_far_cont_smp_jsds,\n",
    "                                lib_nearby_cont_smp_jsds,\n",
    "                                lib_far_cont_smp_jsds\n",
    "                                ])\\\n",
    "              }, \n",
    "            index=['pvalue']).T.reset_index()\n",
    "\n",
    "tmp['y_val'] = 0.17\n",
    "\n",
    "q=tmp.copy()\n",
    "q['is_sig']=q.pvalue<0.05\n",
    "\n",
    "hide_axes=True\n",
    "if hide_axes:\n",
    "        plt.xlabel(None)\n",
    "        plt.ylabel(None)\n",
    "        plt.xticks([])\n",
    "        plt.ylim(0.125, 1.05)\n",
    "        plt.yticks([ 0.2, 0.4, 0.6, 0.8], labels=[])"
   ]
  },
  {
   "cell_type": "code",
   "execution_count": 183,
   "id": "8fdf60e8",
   "metadata": {},
   "outputs": [],
   "source": [
    "from scipy.stats import mannwhitneyu"
   ]
  },
  {
   "cell_type": "code",
   "execution_count": 138,
   "id": "1b5f1574",
   "metadata": {
    "scrolled": true
   },
   "outputs": [
    {
     "data": {
      "text/plain": [
       "MannwhitneyuResult(statistic=149.0, pvalue=0.00012038129837624416)"
      ]
     },
     "execution_count": 138,
     "metadata": {},
     "output_type": "execute_result"
    }
   ],
   "source": [
    "mannwhitneyu(np.array(lib_nearby_cont_smp_jsds)[np.isnan(lib_nearby_cont_smp_jsds)==False], \n",
    "            np.array(lib_far_cont_smp_jsds)[ np.isnan(lib_far_cont_smp_jsds) == False ], \n",
    "#             alternative='less'\n",
    "            )"
   ]
  },
  {
   "cell_type": "code",
   "execution_count": 139,
   "id": "5f1842cb",
   "metadata": {},
   "outputs": [
    {
     "data": {
      "text/plain": [
       "MannwhitneyuResult(statistic=244.0, pvalue=8.219116675208432e-10)"
      ]
     },
     "execution_count": 139,
     "metadata": {},
     "output_type": "execute_result"
    }
   ],
   "source": [
    "mannwhitneyu(np.array(extract_nearby_cont_smp_jsds)[np.isnan(extract_nearby_cont_smp_jsds)==False], \n",
    "            np.array(lib_far_cont_smp_jsds)[ np.isnan(lib_far_cont_smp_jsds) == False ], \n",
    "#             alternative='less'\n",
    "            )"
   ]
  },
  {
   "cell_type": "code",
   "execution_count": 341,
   "id": "6c096a56",
   "metadata": {},
   "outputs": [
    {
     "data": {
      "text/plain": [
       "MannwhitneyuResult(statistic=326.5, pvalue=0.014985576643903395)"
      ]
     },
     "execution_count": 341,
     "metadata": {},
     "output_type": "execute_result"
    }
   ],
   "source": [
    "mannwhitneyu(np.array(extract_nearby_cont_smp_jsds)[np.isnan(extract_nearby_cont_smp_jsds)==False], \n",
    "            np.array(lib_nearby_cont_smp_jsds)[ np.isnan(lib_nearby_cont_smp_jsds) == False ], \n",
    "#             alternative='less'\n",
    "            )"
   ]
  },
  {
   "cell_type": "code",
   "execution_count": null,
   "id": "359e8dd1",
   "metadata": {},
   "outputs": [],
   "source": []
  },
  {
   "cell_type": "code",
   "execution_count": 342,
   "id": "9be66f49",
   "metadata": {},
   "outputs": [
    {
     "data": {
      "text/plain": [
       "MannwhitneyuResult(statistic=915.5, pvalue=0.0016510158419419533)"
      ]
     },
     "execution_count": 342,
     "metadata": {},
     "output_type": "execute_result"
    }
   ],
   "source": [
    "mannwhitneyu(np.array(extract_nearby_cont_smp_jsds)[np.isnan(extract_nearby_cont_smp_jsds)==False], \n",
    "            np.array(extract_far_cont_smp_jsds)[ np.isnan(extract_far_cont_smp_jsds) == False ], \n",
    "#             alternative='less'\n",
    "            )\n",
    "\n"
   ]
  },
  {
   "cell_type": "code",
   "execution_count": 142,
   "id": "68276122",
   "metadata": {},
   "outputs": [
    {
     "data": {
      "text/plain": [
       "MannwhitneyuResult(statistic=571.0, pvalue=0.6984737962593174)"
      ]
     },
     "execution_count": 142,
     "metadata": {},
     "output_type": "execute_result"
    }
   ],
   "source": [
    "mannwhitneyu(np.array(extract_far_cont_smp_jsds)[np.isnan(extract_far_cont_smp_jsds)==False], \n",
    "            np.array(lib_nearby_cont_smp_jsds)[ np.isnan(lib_nearby_cont_smp_jsds) == False ], \n",
    "#             alternative='less'\n",
    "            )\n",
    "\n"
   ]
  },
  {
   "cell_type": "code",
   "execution_count": 143,
   "id": "c458428e",
   "metadata": {},
   "outputs": [
    {
     "data": {
      "text/plain": [
       "MannwhitneyuResult(statistic=516.0, pvalue=6.406969323636855e-05)"
      ]
     },
     "execution_count": 143,
     "metadata": {},
     "output_type": "execute_result"
    }
   ],
   "source": [
    "mannwhitneyu(np.array(extract_far_cont_smp_jsds)[np.isnan(extract_far_cont_smp_jsds)==False], \n",
    "            np.array(lib_far_cont_smp_jsds)[ np.isnan(lib_far_cont_smp_jsds) == False ], \n",
    "#             alternative='less'\n",
    "            )"
   ]
  }
 ],
 "metadata": {
  "kernelspec": {
   "display_name": "qiime2",
   "language": "python",
   "name": "qiime2"
  },
  "language_info": {
   "codemirror_mode": {
    "name": "ipython",
    "version": 3
   },
   "file_extension": ".py",
   "mimetype": "text/x-python",
   "name": "python",
   "nbconvert_exporter": "python",
   "pygments_lexer": "ipython3",
   "version": "3.8.13"
  }
 },
 "nbformat": 4,
 "nbformat_minor": 5
}
